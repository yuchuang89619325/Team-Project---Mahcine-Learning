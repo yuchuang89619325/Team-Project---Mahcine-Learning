{
 "cells": [
  {
   "cell_type": "code",
   "execution_count": 1,
   "id": "75f84352-65e7-4441-85da-38dfc90d4ec7",
   "metadata": {},
   "outputs": [],
   "source": [
    "import numpy as np\n",
    "import tensorflow as tf\n",
    "from tensorflow import keras\n",
    "from keras.models import Sequential\n",
    "from keras.layers import Dense\n",
    "from keras.utils import np_utils\n",
    "from keras.layers import Dropout\n",
    "from keras.layers import Flatten\n",
    "from keras.layers import Input\n",
    "from keras.layers.convolutional import Conv2D\n",
    "from keras.layers.convolutional import MaxPooling2D\n",
    "from sklearn.model_selection import train_test_split\n",
    "import matplotlib.pyplot as plt\n",
    "import cv2\n",
    "from tensorflow.keras import layers, regularizers"
   ]
  },
  {
   "cell_type": "code",
   "execution_count": 2,
   "id": "b2998a5f-bac1-478c-be68-e435b1cc171e",
   "metadata": {},
   "outputs": [],
   "source": [
    "# X = np.load('data_train.npy')"
   ]
  },
  {
   "cell_type": "code",
   "execution_count": 3,
   "id": "c68e0c45-61de-4fa3-a985-aa62b8409464",
   "metadata": {},
   "outputs": [],
   "source": [
    "def test(X):\n",
    "    # Load model\n",
    "    pred_model = tf.keras.models.load_model(\"teaml_final_model.h5\")\n",
    "    \n",
    "    # Reshape Images to 50x50\n",
    "    D = 50\n",
    "    X_transformed = np.array([cv2.resize(x.reshape(300,300), (D,D)).reshape (D*D) for x in np.transpose (X) ])\n",
    "    \n",
    "    #Shape images for prediction/running through model\n",
    "    X_train = np.reshape(X_transformed, (X_transformed.shape[0], D, D))\n",
    "    \n",
    "    # Predict\n",
    "    y_proba = pred_model.predict(X_train)\n",
    "    y_pred = np.argmax(y_proba,axis=1)\n",
    "    \n",
    "    return y_pred\n",
    "    "
   ]
  },
  {
   "cell_type": "code",
   "execution_count": 4,
   "id": "1dca9754-9fc8-4d2e-b3e0-274ff9177e7f",
   "metadata": {},
   "outputs": [],
   "source": [
    "# test(X)"
   ]
  }
 ],
 "metadata": {
  "kernelspec": {
   "display_name": "Tensorflow-2.7.0",
   "language": "python",
   "name": "tensorflow-2.7.0"
  },
  "language_info": {
   "codemirror_mode": {
    "name": "ipython",
    "version": 3
   },
   "file_extension": ".py",
   "mimetype": "text/x-python",
   "name": "python",
   "nbconvert_exporter": "python",
   "pygments_lexer": "ipython3",
   "version": "3.9.12"
  }
 },
 "nbformat": 4,
 "nbformat_minor": 5
}
